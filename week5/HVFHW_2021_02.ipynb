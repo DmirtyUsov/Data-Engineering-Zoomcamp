{
 "cells": [
  {
   "cell_type": "code",
   "execution_count": 1,
   "id": "dbb7e590",
   "metadata": {},
   "outputs": [],
   "source": [
    "import pyspark\n",
    "from pyspark.sql import SparkSession\n",
    "from pyspark.sql import types\n",
    "from pyspark.sql import functions as F"
   ]
  },
  {
   "cell_type": "code",
   "execution_count": 2,
   "id": "6231512b",
   "metadata": {},
   "outputs": [
    {
     "data": {
      "text/plain": [
       "'3.0.3'"
      ]
     },
     "execution_count": 2,
     "metadata": {},
     "output_type": "execute_result"
    }
   ],
   "source": [
    "pyspark.__version__"
   ]
  },
  {
   "cell_type": "code",
   "execution_count": 2,
   "id": "f7f760e6",
   "metadata": {},
   "outputs": [
    {
     "name": "stderr",
     "output_type": "stream",
     "text": [
      "WARNING: An illegal reflective access operation has occurred\n",
      "WARNING: Illegal reflective access by org.apache.spark.unsafe.Platform (file:/home/ds1/spark/spark-3.0.3-bin-hadoop3.2/jars/spark-unsafe_2.12-3.0.3.jar) to constructor java.nio.DirectByteBuffer(long,int)\n",
      "WARNING: Please consider reporting this to the maintainers of org.apache.spark.unsafe.Platform\n",
      "WARNING: Use --illegal-access=warn to enable warnings of further illegal reflective access operations\n",
      "WARNING: All illegal access operations will be denied in a future release\n",
      "22/03/07 11:43:19 WARN NativeCodeLoader: Unable to load native-hadoop library for your platform... using builtin-java classes where applicable\n",
      "Using Spark's default log4j profile: org/apache/spark/log4j-defaults.properties\n",
      "Setting default log level to \"WARN\".\n",
      "To adjust logging level use sc.setLogLevel(newLevel). For SparkR, use setLogLevel(newLevel).\n"
     ]
    }
   ],
   "source": [
    "spark = SparkSession.builder \\\n",
    "    .master(\"local[*]\") \\\n",
    "    .appName('hvfhw_2021_02') \\\n",
    "    .getOrCreate()"
   ]
  },
  {
   "cell_type": "markdown",
   "id": "de296cbe",
   "metadata": {},
   "source": [
    "### Create parquet"
   ]
  },
  {
   "cell_type": "code",
   "execution_count": 6,
   "id": "f2732ec2",
   "metadata": {},
   "outputs": [],
   "source": [
    "schema = types.StructType([\n",
    "    types.StructField('hvfhs_license_num',types.StringType(),True),\n",
    "    types.StructField('dispatching_base_num',types.StringType(),True),\n",
    "    types.StructField('pickup_datetime',types.TimestampType(),True),\n",
    "    types.StructField('dropoff_datetime',types.TimestampType(),True),\n",
    "    types.StructField('PULocationID',types.LongType(),True),\n",
    "    types.StructField('DOLocationID',types.LongType(),True),\n",
    "    types.StructField('SR_Flag',types.DoubleType(),True)])"
   ]
  },
  {
   "cell_type": "code",
   "execution_count": 7,
   "id": "003f2ac3",
   "metadata": {},
   "outputs": [],
   "source": [
    "df = spark.read \\\n",
    "    .option(\"header\", \"true\") \\\n",
    "    .schema(schema) \\\n",
    "    .csv('fhvhv_tripdata_2021-02.csv')"
   ]
  },
  {
   "cell_type": "code",
   "execution_count": 8,
   "id": "32a3a895",
   "metadata": {},
   "outputs": [
    {
     "name": "stderr",
     "output_type": "stream",
     "text": [
      "                                                                                \r"
     ]
    }
   ],
   "source": [
    "df = df.repartition(24)\n",
    "df.write.parquet('fhvhv/2021/02/')"
   ]
  },
  {
   "cell_type": "code",
   "execution_count": 10,
   "id": "369da83d",
   "metadata": {},
   "outputs": [
    {
     "name": "stderr",
     "output_type": "stream",
     "text": [
      "                                                                                \r"
     ]
    },
    {
     "data": {
      "text/plain": [
       "11613942"
      ]
     },
     "execution_count": 10,
     "metadata": {},
     "output_type": "execute_result"
    }
   ],
   "source": [
    "df.count()"
   ]
  },
  {
   "cell_type": "markdown",
   "id": "5a0d81b7",
   "metadata": {},
   "source": [
    "### Load parquet"
   ]
  },
  {
   "cell_type": "code",
   "execution_count": 3,
   "id": "6b025ee8",
   "metadata": {},
   "outputs": [
    {
     "name": "stderr",
     "output_type": "stream",
     "text": [
      "                                                                                \r"
     ]
    }
   ],
   "source": [
    "df_feb2021 = spark.read.parquet('fhvhv/2021/02/')"
   ]
  },
  {
   "cell_type": "markdown",
   "id": "6f981cc6",
   "metadata": {},
   "source": [
    "### Question 3: Records on 15 Feb 2021"
   ]
  },
  {
   "cell_type": "code",
   "execution_count": 6,
   "id": "6bfc3496",
   "metadata": {},
   "outputs": [
    {
     "name": "stderr",
     "output_type": "stream",
     "text": [
      "                                                                                \r"
     ]
    },
    {
     "data": {
      "text/plain": [
       "367170"
      ]
     },
     "execution_count": 6,
     "metadata": {},
     "output_type": "execute_result"
    }
   ],
   "source": [
    "df_feb2021.filter(F.col(\"pickup_datetime\").between('2021-02-15 00:00:00','2021-02-15 23:59:59')).count()"
   ]
  },
  {
   "cell_type": "markdown",
   "id": "72bc3e52",
   "metadata": {},
   "source": [
    "### Question 4: Day with the longest trip "
   ]
  },
  {
   "cell_type": "code",
   "execution_count": 23,
   "id": "f9dd9ee6",
   "metadata": {},
   "outputs": [],
   "source": [
    "df_duration = df_feb2021.withColumn('trip_duration', F.col('dropoff_datetime').cast(\"long\")-F.col('pickup_datetime').cast(\"long\"))"
   ]
  },
  {
   "cell_type": "code",
   "execution_count": 26,
   "id": "773a8447",
   "metadata": {},
   "outputs": [],
   "source": [
    "df_duration.registerTempTable('fhvhv_duration')"
   ]
  },
  {
   "cell_type": "code",
   "execution_count": 29,
   "id": "4237b90d",
   "metadata": {},
   "outputs": [
    {
     "name": "stderr",
     "output_type": "stream",
     "text": [
      "\n",
      "[Stage 9:>                                                          (0 + 1) / 1]\r"
     ]
    },
    {
     "name": "stdout",
     "output_type": "stream",
     "text": [
      "+-------------+-------------------+\n",
      "|trip_duration|    pickup_datetime|\n",
      "+-------------+-------------------+\n",
      "|        75540|2021-02-11 13:40:44|\n",
      "|        44039|2021-02-20 12:08:15|\n",
      "|        32476|2021-02-10 01:56:17|\n",
      "+-------------+-------------------+\n",
      "only showing top 3 rows\n",
      "\n"
     ]
    },
    {
     "name": "stderr",
     "output_type": "stream",
     "text": [
      "\n",
      "                                                                                \r"
     ]
    }
   ],
   "source": [
    "spark.sql(\"\"\"\n",
    "SELECT\n",
    "    trip_duration,\n",
    "    pickup_datetime\n",
    "FROM\n",
    "    fhvhv_duration\n",
    "SORT BY trip_duration DESC\n",
    "\"\"\").show(3)"
   ]
  },
  {
   "cell_type": "markdown",
   "id": "582e6c18",
   "metadata": {},
   "source": [
    "### Question 5: Stages for most frequent dispatching_base_num\n",
    "Now find the most frequently occurring dispatching_base_num in this dataset"
   ]
  },
  {
   "cell_type": "code",
   "execution_count": 31,
   "id": "cbbce586",
   "metadata": {},
   "outputs": [
    {
     "name": "stderr",
     "output_type": "stream",
     "text": [
      "[Stage 21:==============================================>       (172 + 4) / 200]\r"
     ]
    },
    {
     "name": "stdout",
     "output_type": "stream",
     "text": [
      "+--------------------+-------+\n",
      "|dispatching_base_num|  count|\n",
      "+--------------------+-------+\n",
      "|              B02510|3233664|\n",
      "|              B02764| 965568|\n",
      "|              B02872| 882689|\n",
      "|              B02875| 685390|\n",
      "|              B02765| 559768|\n",
      "|              B02869| 429720|\n",
      "|              B02887| 322331|\n",
      "|              B02871| 312364|\n",
      "|              B02864| 311603|\n",
      "|              B02866| 311089|\n",
      "|              B02878| 305185|\n",
      "|              B02682| 303255|\n",
      "|              B02617| 274510|\n",
      "|              B02883| 251617|\n",
      "|              B02884| 244963|\n",
      "|              B02882| 232173|\n",
      "|              B02876| 215693|\n",
      "|              B02879| 210137|\n",
      "|              B02867| 200530|\n",
      "|              B02877| 198938|\n",
      "+--------------------+-------+\n",
      "only showing top 20 rows\n",
      "\n"
     ]
    },
    {
     "name": "stderr",
     "output_type": "stream",
     "text": [
      "\n",
      "                                                                                \r"
     ]
    }
   ],
   "source": [
    "df_feb2021.groupBy('dispatching_base_num').count().sort(\"count\", ascending=False).show()"
   ]
  },
  {
   "cell_type": "markdown",
   "id": "c0a6a4be",
   "metadata": {},
   "source": [
    "### Question 6: Most common locations pair"
   ]
  },
  {
   "cell_type": "code",
   "execution_count": 4,
   "id": "0bbed8f4",
   "metadata": {},
   "outputs": [],
   "source": [
    "df_zones = spark.read.parquet('zones/')\n",
    "\n",
    "df_feb2021.registerTempTable('fhv_data')\n",
    "df_zones.registerTempTable('dim_zones')"
   ]
  },
  {
   "cell_type": "code",
   "execution_count": 5,
   "id": "23a2dc4d",
   "metadata": {},
   "outputs": [
    {
     "data": {
      "text/plain": [
       "['hvfhs_license_num',\n",
       " 'dispatching_base_num',\n",
       " 'pickup_datetime',\n",
       " 'dropoff_datetime',\n",
       " 'PULocationID',\n",
       " 'DOLocationID',\n",
       " 'SR_Flag']"
      ]
     },
     "execution_count": 5,
     "metadata": {},
     "output_type": "execute_result"
    }
   ],
   "source": [
    "df_feb2021.columns"
   ]
  },
  {
   "cell_type": "code",
   "execution_count": 6,
   "id": "64905768",
   "metadata": {},
   "outputs": [],
   "source": [
    "df_locations = spark.sql(\"\"\"\n",
    "select\n",
    "    fhv_data.PULocationID as pickup_id,\n",
    "    pickup_zone.zone as pickup_zone,\n",
    "    fhv_data.DOLocationID as dropoff_id,\n",
    "    dropoff_zone.zone as dropoff_zone,\n",
    "    CONCAT(pickup_zone.zone, '|', dropoff_zone.zone) as location_pair\n",
    "from fhv_data\n",
    "left join dim_zones as pickup_zone\n",
    "on fhv_data.PULocationID = pickup_zone.locationid\n",
    "left join dim_zones as dropoff_zone\n",
    "on fhv_data.DOLocationID = dropoff_zone.locationid\n",
    "\"\"\")"
   ]
  },
  {
   "cell_type": "code",
   "execution_count": 7,
   "id": "ab1395cc",
   "metadata": {},
   "outputs": [
    {
     "name": "stdout",
     "output_type": "stream",
     "text": [
      "+---------+--------------------+----------+--------------------+--------------------+\n",
      "|pickup_id|         pickup_zone|dropoff_id|        dropoff_zone|       location_pair|\n",
      "+---------+--------------------+----------+--------------------+--------------------+\n",
      "|      126|         Hunts Point|       147|            Longwood|Hunts Point|Longwood|\n",
      "|       85|             Erasmus|        72|East Flatbush/Rem...|Erasmus|East Flat...|\n",
      "|      229|Sutton Place/Turt...|       261|  World Trade Center|Sutton Place/Turt...|\n",
      "|      260|            Woodside|       160|      Middle Village|Woodside|Middle V...|\n",
      "|      140|     Lenox Hill East|        72|East Flatbush/Rem...|Lenox Hill East|E...|\n",
      "|       51|          Co-Op City|       213|Soundview/Castle ...|Co-Op City|Soundv...|\n",
      "|      143| Lincoln Square West|       137|            Kips Bay|Lincoln Square We...|\n",
      "|      260|            Woodside|       260|            Woodside|   Woodside|Woodside|\n",
      "|      167|  Morrisania/Melrose|       169|          Mount Hope|Morrisania/Melros...|\n",
      "|      233| UN/Turtle Bay South|       158|Meatpacking/West ...|UN/Turtle Bay Sou...|\n",
      "+---------+--------------------+----------+--------------------+--------------------+\n",
      "only showing top 10 rows\n",
      "\n"
     ]
    }
   ],
   "source": [
    "df_locations.show(10)"
   ]
  },
  {
   "cell_type": "code",
   "execution_count": 8,
   "id": "0fb56ad0",
   "metadata": {},
   "outputs": [],
   "source": [
    "df_locations.registerTempTable('fhvhv_locations')"
   ]
  },
  {
   "cell_type": "code",
   "execution_count": 16,
   "id": "2b893b09",
   "metadata": {},
   "outputs": [
    {
     "name": "stderr",
     "output_type": "stream",
     "text": [
      "[Stage 16:>                                                         (0 + 4) / 4]\r"
     ]
    },
    {
     "name": "stdout",
     "output_type": "stream",
     "text": [
      "+-----------------------------------+-----+\n",
      "|first(location_pair)               |total|\n",
      "+-----------------------------------+-----+\n",
      "|East Harlem North|East Harlem South|8910 |\n",
      "|Canarsie|Prospect-Lefferts Gardens |4361 |\n",
      "|South Ozone Park|Baisley Park      |3109 |\n",
      "+-----------------------------------+-----+\n",
      "only showing top 3 rows\n",
      "\n"
     ]
    },
    {
     "name": "stderr",
     "output_type": "stream",
     "text": [
      "                                                                                \r"
     ]
    }
   ],
   "source": [
    "## Why wrong?\n",
    "spark.sql(\"\"\"\n",
    "SELECT\n",
    "    FIRST(location_pair),\n",
    "    count(1) as total\n",
    "FROM\n",
    "    fhvhv_locations\n",
    "GROUP BY location_pair\n",
    "SORT BY total DESC\n",
    "\"\"\").show(3, False)"
   ]
  },
  {
   "cell_type": "code",
   "execution_count": 15,
   "id": "82ddad3d",
   "metadata": {},
   "outputs": [
    {
     "name": "stderr",
     "output_type": "stream",
     "text": [
      "[Stage 14:========================================>             (149 + 4) / 200]\r"
     ]
    },
    {
     "name": "stdout",
     "output_type": "stream",
     "text": [
      "+-------------------------+-------------------------+--------+\n",
      "|pickup_zone              |dropoff_zone             |count(1)|\n",
      "+-------------------------+-------------------------+--------+\n",
      "|East New York            |East New York            |45041   |\n",
      "|Borough Park             |Borough Park             |37329   |\n",
      "|Canarsie                 |Canarsie                 |28026   |\n",
      "|Crown Heights North      |Crown Heights North      |25976   |\n",
      "|Bay Ridge                |Bay Ridge                |17934   |\n",
      "|Astoria                  |Astoria                  |14688   |\n",
      "|Jackson Heights          |Jackson Heights          |14688   |\n",
      "|Central Harlem North     |Central Harlem North     |14481   |\n",
      "|Bushwick South           |Bushwick South           |14424   |\n",
      "|Flatbush/Ditmas Park     |Flatbush/Ditmas Park     |13976   |\n",
      "|South Ozone Park         |South Ozone Park         |13716   |\n",
      "|Brownsville              |Brownsville              |12829   |\n",
      "|JFK Airport              |NA                       |12542   |\n",
      "|Prospect-Lefferts Gardens|Crown Heights North      |11814   |\n",
      "|Forest Hills             |Forest Hills             |11548   |\n",
      "|Bushwick North           |Bushwick South           |11491   |\n",
      "|Bushwick South           |Bushwick North           |11487   |\n",
      "|Crown Heights North      |Prospect-Lefferts Gardens|11462   |\n",
      "|Crown Heights North      |Stuyvesant Heights       |11342   |\n",
      "|Prospect-Lefferts Gardens|Prospect-Lefferts Gardens|11308   |\n",
      "|Stuyvesant Heights       |Crown Heights North      |11293   |\n",
      "|Brownsville              |East New York            |11244   |\n",
      "|Bedford                  |Bedford                  |11021   |\n",
      "|Canarsie                 |East New York            |10688   |\n",
      "|Stuyvesant Heights       |Stuyvesant Heights       |10675   |\n",
      "|East New York            |Brownsville              |10621   |\n",
      "|Elmhurst                 |Elmhurst                 |10604   |\n",
      "|Soundview/Castle Hill    |Soundview/Castle Hill    |10519   |\n",
      "|Central Harlem North     |Central Harlem           |10304   |\n",
      "|Central Harlem           |Central Harlem North     |10260   |\n",
      "+-------------------------+-------------------------+--------+\n",
      "only showing top 30 rows\n",
      "\n"
     ]
    },
    {
     "name": "stderr",
     "output_type": "stream",
     "text": [
      "                                                                                \r"
     ]
    }
   ],
   "source": [
    "df_locations.groupBy('pickup_zone', 'dropoff_zone').agg(F.count(\"*\")).sort('count(1)', ascending=False).show(30, False)"
   ]
  },
  {
   "cell_type": "code",
   "execution_count": null,
   "id": "20c684df-1afa-43f9-9522-38db09b97555",
   "metadata": {},
   "outputs": [],
   "source": []
  }
 ],
 "metadata": {
  "kernelspec": {
   "display_name": "Python 3 (ipykernel)",
   "language": "python",
   "name": "python3"
  },
  "language_info": {
   "codemirror_mode": {
    "name": "ipython",
    "version": 3
   },
   "file_extension": ".py",
   "mimetype": "text/x-python",
   "name": "python",
   "nbconvert_exporter": "python",
   "pygments_lexer": "ipython3",
   "version": "3.9.7"
  }
 },
 "nbformat": 4,
 "nbformat_minor": 5
}
